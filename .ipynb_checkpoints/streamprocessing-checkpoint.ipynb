{
 "cells": [
  {
   "cell_type": "code",
   "execution_count": null,
   "id": "ae9eda4a-1e93-4a02-bf89-43c291d87ad1",
   "metadata": {},
   "outputs": [],
   "source": [
    "from pyspark.sql import SparkSession\n",
    "import pandas as pd"
   ]
  },
  {
   "cell_type": "code",
   "execution_count": null,
   "id": "6e991977-929b-454b-958f-e8db21d9f3d2",
   "metadata": {},
   "outputs": [],
   "source": [
    "spark = SparkSession.builder \\\n",
    ".master('local[*]') \\\n",
    ".appName('test_streaming') \\\n",
    ".config(\"spark.sql.streaming.SchemaInference\", \"true\") \\\n",
    ".config(\"spark.executor.memory\",\"3g\") \\\n",
    ".config(\"spark.executor.cores\",\"4\") \\\n",
    ".config(\"spark.cores.max\", \"2\") \\\n",
    ".enableHiveSupport() \\\n",
    ".getOrCreate()"
   ]
  },
  {
   "cell_type": "code",
   "execution_count": null,
   "id": "12a484e4-8649-4b46-a1ef-9409c9c1bd86",
   "metadata": {},
   "outputs": [],
   "source": [
    "spark"
   ]
  },
  {
   "cell_type": "code",
   "execution_count": null,
   "id": "1d1afcfb-feac-4fa9-826d-9866c99f466d",
   "metadata": {},
   "outputs": [],
   "source": [
    "df = spark.read.option(\"header\", \"true\").csv('data/atictivity_data/2010-12-01.csv')"
   ]
  },
  {
   "cell_type": "code",
   "execution_count": null,
   "id": "a13cd562-93c1-44d8-a2b3-ef888e2cfc9e",
   "metadata": {},
   "outputs": [],
   "source": [
    "df.printSchema()"
   ]
  },
  {
   "cell_type": "code",
   "execution_count": null,
   "id": "b4723c7b-9a05-4649-a433-a27bc372e566",
   "metadata": {},
   "outputs": [],
   "source": [
    "df.schema"
   ]
  },
  {
   "cell_type": "code",
   "execution_count": null,
   "id": "5043aeed-b0f8-4def-b144-2a90b15a95d6",
   "metadata": {},
   "outputs": [],
   "source": [
    "df = pd.read_csv(\"data/atictivity_data/2010-12-01.csv\", nrows=10)"
   ]
  },
  {
   "cell_type": "code",
   "execution_count": null,
   "id": "d5f33def-ff10-4c8f-a06a-74675f59d419",
   "metadata": {},
   "outputs": [],
   "source": [
    "df"
   ]
  },
  {
   "cell_type": "code",
   "execution_count": null,
   "id": "9c868351-cfc4-444a-a33b-bb154397a540",
   "metadata": {},
   "outputs": [],
   "source": [
    "df_spark = spark.createDataFrame(df)"
   ]
  },
  {
   "cell_type": "code",
   "execution_count": null,
   "id": "73b5836b-f90b-4ca8-8d60-7cca5ec13582",
   "metadata": {},
   "outputs": [],
   "source": [
    "df_spark.show()"
   ]
  },
  {
   "cell_type": "code",
   "execution_count": null,
   "id": "5a2ce865-e474-4b26-8e7f-cda8c5509dd0",
   "metadata": {},
   "outputs": [],
   "source": [
    "df_spark.printSchema()"
   ]
  },
  {
   "cell_type": "code",
   "execution_count": null,
   "id": "1488664d-2695-44b4-9f8e-453afc84e84d",
   "metadata": {},
   "outputs": [],
   "source": [
    "df_spark.schema"
   ]
  },
  {
   "cell_type": "code",
   "execution_count": null,
   "id": "72311fa0-9b28-4e02-8f6f-24974833a7e0",
   "metadata": {},
   "outputs": [],
   "source": [
    "from pyspark.sql.types import StructType, StructField, IntegerType, StringType, DoubleType"
   ]
  },
  {
   "cell_type": "code",
   "execution_count": null,
   "id": "03804b2b-5896-4382-adf8-e6fa45bade71",
   "metadata": {},
   "outputs": [],
   "source": [
    "schema = StructType([\n",
    "           StructField('InvoiceNo',IntegerType(), True), \n",
    "           StructField('StockCode',StringType(), True),\n",
    "           StructField('Description',StringType(), True),\n",
    "           StructField('Quantity',IntegerType(), True),\n",
    "           StructField('InvoiceDate',StringType(), True), \n",
    "           StructField('UnitPrice',DoubleType(), True),\n",
    "           StructField('CustomerID',DoubleType(), True),\n",
    "           StructField('Country',StringType(), True)\n",
    "          ])"
   ]
  },
  {
   "cell_type": "code",
   "execution_count": null,
   "id": "e4abecbf-8752-4379-9316-157fff1a4852",
   "metadata": {},
   "outputs": [],
   "source": [
    "df = spark.read.option(\"header\", \"true\").schema(schema).csv('data/atictivity_data/2010-12-01.csv')"
   ]
  },
  {
   "cell_type": "code",
   "execution_count": null,
   "id": "308c3214-0fcf-4aff-9cc6-dc9c006a27c2",
   "metadata": {},
   "outputs": [],
   "source": [
    "df.printSchema()"
   ]
  },
  {
   "cell_type": "code",
   "execution_count": null,
   "id": "70e2d5e3-462b-4d67-ae5a-fd80ead228b4",
   "metadata": {},
   "outputs": [],
   "source": [
    "static = spark.readStream\\\n",
    "              .schema(schema) \\\n",
    "              .option(\"maxFilesPerTrigger\", 1) \\\n",
    "              .csv(\"data/atictivity_data/\")"
   ]
  },
  {
   "cell_type": "code",
   "execution_count": null,
   "id": "4c32acff-c810-42a2-a0e4-f6db8f732b65",
   "metadata": {},
   "outputs": [],
   "source": [
    "spark.conf.set(\"spark.sql.shuffle.partitions\", \"5\")"
   ]
  },
  {
   "cell_type": "code",
   "execution_count": null,
   "id": "1f0955ea-ebf5-4976-b0bc-efce2e784b35",
   "metadata": {},
   "outputs": [],
   "source": [
    "groupby_customerid = static.groupBy('CustomerID').count()"
   ]
  },
  {
   "cell_type": "code",
   "execution_count": null,
   "id": "fbcdc7ff-cf57-4880-9fa5-630370bfc11d",
   "metadata": {},
   "outputs": [],
   "source": [
    "activity_query = groupby_customerid \\\n",
    "                .writeStream \\\n",
    "                .queryName(\"activity_counts\") \\\n",
    "                .format('memory') \\\n",
    "                .outputMode(\"complete\") \\\n",
    "                .start()"
   ]
  },
  {
   "cell_type": "code",
   "execution_count": null,
   "id": "722abe03-79fc-493f-9624-5fbc7961ac48",
   "metadata": {},
   "outputs": [],
   "source": [
    "spark.streams.active"
   ]
  },
  {
   "cell_type": "code",
   "execution_count": null,
   "id": "f6042442-51d4-4484-bf2f-fd7bc1468954",
   "metadata": {},
   "outputs": [],
   "source": [
    "from time import sleep"
   ]
  },
  {
   "cell_type": "code",
   "execution_count": null,
   "id": "333c259f-86ad-4760-bd87-7b9fcf2c5add",
   "metadata": {},
   "outputs": [],
   "source": [
    "for x in range(5):\n",
    "    spark.sql(\"SELECT * FROM activity_counts \").show()\n",
    "    sleep(1)"
   ]
  },
  {
   "cell_type": "code",
   "execution_count": null,
   "id": "2b5043ef-8618-42ac-bf62-9ad44ae093a4",
   "metadata": {},
   "outputs": [],
   "source": [
    "activity_query.awaitTermination()"
   ]
  },
  {
   "cell_type": "code",
   "execution_count": null,
   "id": "14c7a2e5-0707-4fe7-bdb4-e22738a07554",
   "metadata": {},
   "outputs": [],
   "source": []
  }
 ],
 "metadata": {
  "kernelspec": {
   "display_name": "Python 3 (ipykernel)",
   "language": "python",
   "name": "python3"
  },
  "language_info": {
   "codemirror_mode": {
    "name": "ipython",
    "version": 3
   },
   "file_extension": ".py",
   "mimetype": "text/x-python",
   "name": "python",
   "nbconvert_exporter": "python",
   "pygments_lexer": "ipython3",
   "version": "3.10.13"
  }
 },
 "nbformat": 4,
 "nbformat_minor": 5
}
