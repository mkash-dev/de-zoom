{
 "cells": [
  {
   "cell_type": "code",
   "execution_count": 1,
   "id": "f00ce8ce-3799-48b8-8129-09bd472a8270",
   "metadata": {},
   "outputs": [],
   "source": [
    "import pyspark\n",
    "from pyspark.sql import SparkSession\n",
    "from pyspark.conf import SparkConf\n",
    "from pyspark.sql import types"
   ]
  },
  {
   "cell_type": "code",
   "execution_count": 2,
   "id": "fff4da54-e1d4-40cc-a47e-80842da174af",
   "metadata": {},
   "outputs": [
    {
     "data": {
      "text/plain": [
       "<pyspark.conf.SparkConf at 0x7f11e2e15cf0>"
      ]
     },
     "execution_count": 2,
     "metadata": {},
     "output_type": "execute_result"
    }
   ],
   "source": [
    "conf = SparkConf()\n",
    "conf.set('spark.jars', 'postgresql-42.7.1.jar')"
   ]
  },
  {
   "cell_type": "code",
   "execution_count": 3,
   "id": "f14da352-56da-40fd-a9bd-8269512a0d6b",
   "metadata": {},
   "outputs": [
    {
     "name": "stderr",
     "output_type": "stream",
     "text": [
      "24/01/28 10:09:09 WARN Utils: Your hostname, codespaces-cbe94a resolves to a loopback address: 127.0.0.1; using 172.16.5.4 instead (on interface eth0)\n",
      "24/01/28 10:09:09 WARN Utils: Set SPARK_LOCAL_IP if you need to bind to another address\n",
      "24/01/28 10:09:10 WARN NativeCodeLoader: Unable to load native-hadoop library for your platform... using builtin-java classes where applicable\n",
      "Setting default log level to \"WARN\".\n",
      "To adjust logging level use sc.setLogLevel(newLevel). For SparkR, use setLogLevel(newLevel).\n"
     ]
    }
   ],
   "source": [
    "spark = SparkSession.builder \\\n",
    ".master(\"local[*]\") \\\n",
    ".appName('test') \\\n",
    ".config(conf=conf) \\\n",
    ".getOrCreate()"
   ]
  },
  {
   "cell_type": "code",
   "execution_count": 4,
   "id": "484b4fe9-3d20-4a73-bf3d-917450ce3ffd",
   "metadata": {},
   "outputs": [],
   "source": [
    "df = spark.read.option('header','true').csv('data/green/')"
   ]
  },
  {
   "cell_type": "code",
   "execution_count": 5,
   "id": "223442f0-24f7-4662-bb0f-9ee4d2fd3ce7",
   "metadata": {},
   "outputs": [
    {
     "name": "stdout",
     "output_type": "stream",
     "text": [
      "+--------+--------------------+---------------------+------------------+----------+------------+------------+---------------+-------------+-----------+-----+-------+----------+------------+---------+---------------------+------------+------------+---------+--------------------+\n",
      "|VendorID|lpep_pickup_datetime|lpep_dropoff_datetime|store_and_fwd_flag|RatecodeID|PULocationID|DOLocationID|passenger_count|trip_distance|fare_amount|extra|mta_tax|tip_amount|tolls_amount|ehail_fee|improvement_surcharge|total_amount|payment_type|trip_type|congestion_surcharge|\n",
      "+--------+--------------------+---------------------+------------------+----------+------------+------------+---------------+-------------+-----------+-----+-------+----------+------------+---------+---------------------+------------+------------+---------+--------------------+\n",
      "|       2| 2018-12-21 15:17:29|  2018-12-21 15:18:57|                 N|         1|         264|         264|              5|          .00|          3|  0.5|    0.5|         0|           0|     NULL|                  0.3|         4.3|           2|        1|                NULL|\n",
      "|       2| 2019-01-01 00:10:16|  2019-01-01 00:16:32|                 N|         1|          97|          49|              2|          .86|          6|  0.5|    0.5|         0|           0|     NULL|                  0.3|         7.3|           2|        1|                NULL|\n",
      "|       2| 2019-01-01 00:27:11|  2019-01-01 00:31:38|                 N|         1|          49|         189|              2|          .66|        4.5|  0.5|    0.5|         0|           0|     NULL|                  0.3|         5.8|           1|        1|                NULL|\n",
      "|       2| 2019-01-01 00:46:20|  2019-01-01 01:04:54|                 N|         1|         189|          17|              2|         2.68|       13.5|  0.5|    0.5|      2.96|           0|     NULL|                  0.3|       19.71|           1|        1|                NULL|\n",
      "|       2| 2019-01-01 00:19:06|  2019-01-01 00:39:43|                 N|         1|          82|         258|              1|         4.53|         18|  0.5|    0.5|         0|           0|     NULL|                  0.3|        19.3|           2|        1|                NULL|\n",
      "|       2| 2019-01-01 00:12:35|  2019-01-01 00:19:09|                 N|         1|          49|          17|              1|         1.05|        6.5|  0.5|    0.5|         0|           0|     NULL|                  0.3|         7.8|           1|        1|                NULL|\n",
      "|       2| 2019-01-01 00:47:55|  2019-01-01 01:00:01|                 N|         1|         255|          33|              1|         3.77|       13.5|  0.5|    0.5|         0|           0|     NULL|                  0.3|        14.8|           1|        1|                NULL|\n",
      "|       1| 2019-01-01 00:12:47|  2019-01-01 00:30:50|                 N|         1|          76|         225|              1|         4.10|         16|  0.5|    0.5|         0|           0|     NULL|                  0.3|        17.3|           1|        1|                NULL|\n",
      "|       2| 2019-01-01 00:16:23|  2019-01-01 00:39:46|                 N|         1|          25|          89|              1|         7.75|       25.5|  0.5|    0.5|         0|           0|     NULL|                  0.3|        26.8|           1|        1|                NULL|\n",
      "|       2| 2019-01-01 00:58:02|  2019-01-01 01:19:02|                 N|         1|          85|          39|              1|         3.68|       15.5|  0.5|    0.5|         0|           0|     NULL|                  0.3|        16.8|           1|        1|                NULL|\n",
      "|       2| 2019-01-01 00:37:00|  2019-01-01 00:56:42|                 N|         1|         223|         238|              1|         6.84|         22|  0.5|    0.5|         8|        5.76|     NULL|                  0.3|       37.06|           1|        1|                NULL|\n",
      "|       2| 2019-01-01 00:13:48|  2019-01-01 00:21:00|                 N|         1|         129|         129|              2|         1.15|        6.5|  0.5|    0.5|      1.56|           0|     NULL|                  0.3|        9.36|           1|        1|                NULL|\n",
      "|       2| 2019-01-01 00:19:59|  2019-01-01 00:45:50|                 N|         1|          71|          71|              1|          .49|       15.5|  0.5|    0.5|         0|           0|     NULL|                  0.3|        16.8|           1|        1|                NULL|\n",
      "|       2| 2019-01-01 00:57:57|  2019-01-01 01:20:10|                 N|         1|          85|         177|              1|         3.61|         17|  0.5|    0.5|         0|           0|     NULL|                  0.3|        18.3|           1|        1|                NULL|\n",
      "|       1| 2019-01-01 00:09:02|  2019-01-01 00:17:50|                 N|         1|         256|          80|              1|         1.20|        7.5|  0.5|    0.5|       5.2|           0|     NULL|                  0.3|          14|           1|        1|                NULL|\n",
      "|       1| 2019-01-01 00:22:12|  2019-01-01 00:25:29|                 N|         1|          80|          80|              1|          .50|          4|  0.5|    0.5|         0|           0|     NULL|                  0.3|         5.3|           2|        1|                NULL|\n",
      "|       1| 2019-01-01 00:31:55|  2019-01-01 00:52:59|                 N|         1|         256|         229|              1|         5.50|       19.5|  0.5|    0.5|      4.15|           0|     NULL|                  0.3|       24.95|           1|        1|                NULL|\n",
      "|       2| 2019-01-01 00:30:20|  2019-01-01 00:54:19|                 N|         1|         255|         231|              1|         5.01|         20|  0.5|    0.5|      4.26|           0|     NULL|                  0.3|       25.56|           1|        1|                NULL|\n",
      "|       2| 2018-12-31 23:58:06|  2019-01-01 00:00:57|                 N|         1|         146|           7|              1|          .43|          4|  0.5|    0.5|      1.06|           0|     NULL|                  0.3|        6.36|           1|        1|                NULL|\n",
      "|       2| 2019-01-01 00:40:17|  2019-01-01 00:50:23|                 N|         1|         146|         129|              1|         2.72|       10.5|  0.5|    0.5|      2.36|           0|     NULL|                  0.3|       14.16|           1|        1|                NULL|\n",
      "+--------+--------------------+---------------------+------------------+----------+------------+------------+---------------+-------------+-----------+-----+-------+----------+------------+---------+---------------------+------------+------------+---------+--------------------+\n",
      "only showing top 20 rows\n",
      "\n"
     ]
    }
   ],
   "source": [
    "df.show()"
   ]
  },
  {
   "cell_type": "code",
   "execution_count": 6,
   "id": "dbb69c9e-edd3-42cd-bbe8-94be22f18b3b",
   "metadata": {},
   "outputs": [
    {
     "data": {
      "text/plain": [
       "StructType([StructField('VendorID', StringType(), True), StructField('lpep_pickup_datetime', StringType(), True), StructField('lpep_dropoff_datetime', StringType(), True), StructField('store_and_fwd_flag', StringType(), True), StructField('RatecodeID', StringType(), True), StructField('PULocationID', StringType(), True), StructField('DOLocationID', StringType(), True), StructField('passenger_count', StringType(), True), StructField('trip_distance', StringType(), True), StructField('fare_amount', StringType(), True), StructField('extra', StringType(), True), StructField('mta_tax', StringType(), True), StructField('tip_amount', StringType(), True), StructField('tolls_amount', StringType(), True), StructField('ehail_fee', StringType(), True), StructField('improvement_surcharge', StringType(), True), StructField('total_amount', StringType(), True), StructField('payment_type', StringType(), True), StructField('trip_type', StringType(), True), StructField('congestion_surcharge', StringType(), True)])"
      ]
     },
     "execution_count": 6,
     "metadata": {},
     "output_type": "execute_result"
    },
    {
     "name": "stderr",
     "output_type": "stream",
     "text": [
      "24/01/28 10:09:23 WARN GarbageCollectionMetrics: To enable non-built-in garbage collector(s) List(G1 Concurrent GC), users should configure it(them) to spark.eventLog.gcMetrics.youngGenerationGarbageCollectors or spark.eventLog.gcMetrics.oldGenerationGarbageCollectors\n"
     ]
    }
   ],
   "source": [
    "df.schema"
   ]
  },
  {
   "cell_type": "code",
   "execution_count": 7,
   "id": "8f5e4a7b-8d5b-456c-90a3-6b57a56335ba",
   "metadata": {},
   "outputs": [],
   "source": [
    "import pandas as pd"
   ]
  },
  {
   "cell_type": "code",
   "execution_count": 8,
   "id": "d6fc8c51-33f3-42e4-a3b9-e32b70b3cd9c",
   "metadata": {},
   "outputs": [],
   "source": [
    "pd_df = pd.read_csv('data/green/green_tripdata_2020-01.csv.gz', compression='gzip', nrows=5)"
   ]
  },
  {
   "cell_type": "code",
   "execution_count": 9,
   "id": "2ccb99b4-0e6e-4feb-b655-b8acd30fd0ab",
   "metadata": {},
   "outputs": [],
   "source": [
    "spark_dataframe = spark.createDataFrame(pd_df)"
   ]
  },
  {
   "cell_type": "code",
   "execution_count": 10,
   "id": "bfc4b8fd-d3b8-4949-9506-c9257a5a3ecf",
   "metadata": {},
   "outputs": [
    {
     "data": {
      "text/plain": [
       "StructType([StructField('VendorID', LongType(), True), StructField('lpep_pickup_datetime', StringType(), True), StructField('lpep_dropoff_datetime', StringType(), True), StructField('store_and_fwd_flag', StringType(), True), StructField('RatecodeID', LongType(), True), StructField('PULocationID', LongType(), True), StructField('DOLocationID', LongType(), True), StructField('passenger_count', LongType(), True), StructField('trip_distance', DoubleType(), True), StructField('fare_amount', DoubleType(), True), StructField('extra', DoubleType(), True), StructField('mta_tax', DoubleType(), True), StructField('tip_amount', DoubleType(), True), StructField('tolls_amount', LongType(), True), StructField('ehail_fee', DoubleType(), True), StructField('improvement_surcharge', DoubleType(), True), StructField('total_amount', DoubleType(), True), StructField('payment_type', LongType(), True), StructField('trip_type', LongType(), True), StructField('congestion_surcharge', DoubleType(), True)])"
      ]
     },
     "execution_count": 10,
     "metadata": {},
     "output_type": "execute_result"
    }
   ],
   "source": [
    "spark_dataframe.schema"
   ]
  },
  {
   "cell_type": "code",
   "execution_count": 11,
   "id": "cfe5614a-1a78-4cee-bd84-6057aeeac738",
   "metadata": {},
   "outputs": [],
   "source": [
    "schema = types.StructType([\n",
    "            types.StructField('VendorID', types.IntegerType(), True),\n",
    "            types.StructField('lpep_pickup_datetime', types.TimestampType(), True), \n",
    "            types.StructField('lpep_dropoff_datetime', types.TimestampType(), True),\n",
    "            types.StructField('store_and_fwd_flag', types.StringType(), True),\n",
    "            types.StructField('RatecodeID', types.IntegerType(), True), \n",
    "            types.StructField('PULocationID', types.IntegerType(), True), \n",
    "            types.StructField('DOLocationID', types.IntegerType(), True),\n",
    "            types.StructField('passenger_count', types.IntegerType(), True),\n",
    "            types.StructField('trip_distance', types.DoubleType(), True), \n",
    "            types.StructField('fare_amount', types.DoubleType(), True),\n",
    "            types.StructField('extra', types.DoubleType(), True),\n",
    "            types.StructField('mta_tax', types.DoubleType(), True), \n",
    "            types.StructField('tip_amount', types.DoubleType(), True), \n",
    "            types.StructField('tolls_amount', types.IntegerType(), True), \n",
    "            types.StructField('ehail_fee', types.DoubleType(), True), \n",
    "            types.StructField('improvement_surcharge', types.DoubleType(), True), \n",
    "            types.StructField('total_amount', types.DoubleType(), True),\n",
    "            types.StructField('payment_type', types.IntegerType(), True), \n",
    "            types.StructField('trip_type', types.IntegerType(), True), \n",
    "            types.StructField('congestion_surcharge', types.DoubleType(), True)\n",
    "            ])"
   ]
  },
  {
   "cell_type": "code",
   "execution_count": 12,
   "id": "21c535f0-271f-4582-9477-c7f2a20b7c84",
   "metadata": {},
   "outputs": [],
   "source": [
    "df = spark.read.schema(schema).option('header','true').csv('data/green/')"
   ]
  },
  {
   "cell_type": "code",
   "execution_count": 13,
   "id": "af561094-9139-499b-892f-0179a7e455fd",
   "metadata": {},
   "outputs": [
    {
     "name": "stdout",
     "output_type": "stream",
     "text": [
      "root\n",
      " |-- VendorID: integer (nullable = true)\n",
      " |-- lpep_pickup_datetime: timestamp (nullable = true)\n",
      " |-- lpep_dropoff_datetime: timestamp (nullable = true)\n",
      " |-- store_and_fwd_flag: string (nullable = true)\n",
      " |-- RatecodeID: integer (nullable = true)\n",
      " |-- PULocationID: integer (nullable = true)\n",
      " |-- DOLocationID: integer (nullable = true)\n",
      " |-- passenger_count: integer (nullable = true)\n",
      " |-- trip_distance: double (nullable = true)\n",
      " |-- fare_amount: double (nullable = true)\n",
      " |-- extra: double (nullable = true)\n",
      " |-- mta_tax: double (nullable = true)\n",
      " |-- tip_amount: double (nullable = true)\n",
      " |-- tolls_amount: integer (nullable = true)\n",
      " |-- ehail_fee: double (nullable = true)\n",
      " |-- improvement_surcharge: double (nullable = true)\n",
      " |-- total_amount: double (nullable = true)\n",
      " |-- payment_type: integer (nullable = true)\n",
      " |-- trip_type: integer (nullable = true)\n",
      " |-- congestion_surcharge: double (nullable = true)\n",
      "\n"
     ]
    }
   ],
   "source": [
    "df.printSchema()"
   ]
  },
  {
   "cell_type": "code",
   "execution_count": 14,
   "id": "b1567ef0-3fdd-4a00-a7d1-f74b2b3bc141",
   "metadata": {},
   "outputs": [],
   "source": [
    "limited_df = df.limit(2000000)"
   ]
  },
  {
   "cell_type": "code",
   "execution_count": null,
   "id": "54b3886b-3edb-4f67-8ace-19852a791e32",
   "metadata": {},
   "outputs": [
    {
     "name": "stderr",
     "output_type": "stream",
     "text": [
      "[Stage 4:>                                                          (0 + 1) / 1]\r"
     ]
    }
   ],
   "source": [
    "limited_df.write.format(\"jdbc\") \\\n",
    "        .options(url=\"jdbc:postgresql://172.19.0.2:5432/ny_taxi\",\n",
    "                 dbtable=\"taxi_rides_all.green_trips_data\",\n",
    "                 user=\"ahona\",\n",
    "                 password=\"ahona\",\n",
    "                 driver=\"org.postgresql.Driver\") \\\n",
    " .mode('overwrite') \\\n",
    " .save()"
   ]
  },
  {
   "cell_type": "code",
   "execution_count": null,
   "id": "edbe97f6-ff35-4ea0-be4e-e94fc3f4eaaa",
   "metadata": {},
   "outputs": [],
   "source": []
  }
 ],
 "metadata": {
  "kernelspec": {
   "display_name": "Python 3 (ipykernel)",
   "language": "python",
   "name": "python3"
  },
  "language_info": {
   "codemirror_mode": {
    "name": "ipython",
    "version": 3
   },
   "file_extension": ".py",
   "mimetype": "text/x-python",
   "name": "python",
   "nbconvert_exporter": "python",
   "pygments_lexer": "ipython3",
   "version": "3.10.13"
  }
 },
 "nbformat": 4,
 "nbformat_minor": 5
}
