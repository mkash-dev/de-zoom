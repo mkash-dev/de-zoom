{
 "cells": [
  {
   "cell_type": "code",
   "execution_count": null,
   "id": "42167067-4bba-4889-ae3b-01cd53001f55",
   "metadata": {},
   "outputs": [],
   "source": [
    "import pyspark"
   ]
  },
  {
   "cell_type": "code",
   "execution_count": null,
   "id": "04fc1053-7d03-42b8-a845-9327a2356591",
   "metadata": {},
   "outputs": [],
   "source": [
    "from pyspark.sql import SparkSession"
   ]
  },
  {
   "cell_type": "code",
   "execution_count": null,
   "id": "ed9ae331-7250-4d46-a7b3-9106a0bd1143",
   "metadata": {},
   "outputs": [],
   "source": [
    "spark = SparkSession.builder \\\n",
    "        .master(\"local[*]\") \\\n",
    "        .appName(\"some_stream_processing\") \\\n",
    "        .config(\"spark.executor.memory\",\"3g\") \\\n",
    "        .config(\"spark.executor.cores\", \"4\") \\\n",
    "        .enableHiveSupport() \\\n",
    "        .getOrCreate()"
   ]
  },
  {
   "cell_type": "code",
   "execution_count": null,
   "id": "8a3eb3e1-9b16-4bbb-840f-a1a09911b213",
   "metadata": {},
   "outputs": [],
   "source": [
    "static_dataframe = spark.read.json('activity-data/')"
   ]
  },
  {
   "cell_type": "code",
   "execution_count": null,
   "id": "4ec4333d-bdad-4f67-9470-97aca24e3fd5",
   "metadata": {},
   "outputs": [],
   "source": [
    "static_dataframe.count()"
   ]
  },
  {
   "cell_type": "code",
   "execution_count": null,
   "id": "46b98742-e664-49d6-9f07-b216577e65f1",
   "metadata": {},
   "outputs": [],
   "source": [
    "schema = static_dataframe.schema"
   ]
  },
  {
   "cell_type": "code",
   "execution_count": null,
   "id": "c343e35b-95af-4a7a-a0c5-ce58ef03c0e0",
   "metadata": {},
   "outputs": [],
   "source": [
    "streaming_dataframe = spark.readStream.schema(schema).option('maxFilesPerTrigger','1').json('activity-data')"
   ]
  },
  {
   "cell_type": "code",
   "execution_count": null,
   "id": "8b3f9f1a-f26e-4173-a1cf-ffda295ead77",
   "metadata": {},
   "outputs": [],
   "source": [
    "activity_counts = streaming_dataframe.groupBy('gt').count()"
   ]
  },
  {
   "cell_type": "code",
   "execution_count": null,
   "id": "bb51a71f-f59e-4d98-81c7-1dfecacb9cb6",
   "metadata": {},
   "outputs": [],
   "source": [
    "spark.conf.set('spark.sql.shuffle.partitions', 5)"
   ]
  },
  {
   "cell_type": "code",
   "execution_count": null,
   "id": "1a505988-58ad-427c-ba51-3cdf7f24da0b",
   "metadata": {},
   "outputs": [],
   "source": [
    "activity_counts_query = activity_counts.writeStream.queryName('activity_counts_all').format('memory').outputMode('complete').start()"
   ]
  },
  {
   "cell_type": "code",
   "execution_count": null,
   "id": "c63bd9a7-5f13-42cc-9fee-5b0bee9068d9",
   "metadata": {},
   "outputs": [],
   "source": [
    "from time import sleep"
   ]
  },
  {
   "cell_type": "code",
   "execution_count": null,
   "id": "ebc2fb15-2680-45b8-a411-823148025c7f",
   "metadata": {},
   "outputs": [],
   "source": [
    "for x in range(5):\n",
    "    spark.sql(\"SELECT * FROM  activity_counts_all\").show()\n",
    "    sleep(1)"
   ]
  },
  {
   "cell_type": "code",
   "execution_count": null,
   "id": "b32db7f8-163e-45fd-ad3f-043796f72aaf",
   "metadata": {},
   "outputs": [],
   "source": [
    "spark.streams.active"
   ]
  },
  {
   "cell_type": "code",
   "execution_count": null,
   "id": "acb1c472-dcdb-4a6a-9ed7-16e8992c9c2d",
   "metadata": {},
   "outputs": [],
   "source": [
    "from pyspark.sql.functions import expr"
   ]
  },
  {
   "cell_type": "code",
   "execution_count": null,
   "id": "455950eb-c120-4fc5-af08-9be7ce51e844",
   "metadata": {},
   "outputs": [],
   "source": [
    "simple_transform = streaming_dataframe.withColumn(\"stairs\", expr(\"gt like '%stairs%'\")) \\\n",
    "                   .where(\"stairs\") \\\n",
    "                   .where(\"gt is not null\") \\\n",
    "                   .select(\"gt\",\"model\", \"arrival_time\", \"creation_time\") \\\n",
    "                   .writeStream \\\n",
    "                   .queryName(\"jus_some_query\") \\\n",
    "                   .format(\"memory\") \\\n",
    "                   .outputMode(\"append\") \\\n",
    "                   .start()"
   ]
  },
  {
   "cell_type": "code",
   "execution_count": null,
   "id": "607ce4d2-5e01-4310-abce-7a71878663fa",
   "metadata": {},
   "outputs": [],
   "source": [
    "#spark.sql('SELECT * FROM simple_transform').show()"
   ]
  },
  {
   "cell_type": "code",
   "execution_count": null,
   "id": "7b68a5af-d64d-41a6-adbd-129d85e000b4",
   "metadata": {},
   "outputs": [],
   "source": [
    "device_model_stats = streaming_dataframe.cube(\"gt\", \"model\").avg() \\\n",
    "                     .drop(\"avg(Arrival_time)\") \\\n",
    "                     .drop(\"avg(Creation_Time)\") \\\n",
    "                     .drop(\"avg(Index)\") \\\n",
    "                     .writeStream \\\n",
    "                     .queryName(\"ahona\") \\\n",
    "                     .format(\"memory\") \\\n",
    "                     .outputMode(\"complete\") \\\n",
    "                     .start()"
   ]
  },
  {
   "cell_type": "code",
   "execution_count": null,
   "id": "b9b5f00b-e6be-4cee-8519-6cce8a97bf10",
   "metadata": {},
   "outputs": [],
   "source": [
    "spark.sql(\"SELECT * FROM  device_model_stats\")"
   ]
  },
  {
   "cell_type": "code",
   "execution_count": null,
   "id": "a61e90d4-2ef2-47cf-941b-113465793bd6",
   "metadata": {},
   "outputs": [],
   "source": [
    "historical_aggregate = static_dataframe.groupBy(\"gt\", \"model\").avg()\n",
    "device_model_stats1 = streaming_dataframe.drop('Arrival_Time', \"Creation_time\", \"Index\") \\\n",
    "                      .cube(\"gt\", \"model\").avg() \\\n",
    "                      .join(historical_aggregate,[\"gt\",\"model\"]) \\\n",
    "                      .writeStream \\\n",
    "                      .queryName(\"absolute_test\") \\\n",
    "                      .format(\"memory\") \\\n",
    "                      .outputMode(\"complete\") \\\n",
    "                      .start()"
   ]
  },
  {
   "cell_type": "code",
   "execution_count": 1,
   "id": "873ff428-cc4c-467f-bd43-a77994519668",
   "metadata": {},
   "outputs": [],
   "source": [
    "#reading data from kafka"
   ]
  },
  {
   "cell_type": "code",
   "execution_count": null,
   "id": "405a7539-f20f-4632-b194-ec07366f6b26",
   "metadata": {},
   "outputs": [],
   "source": [
    "df1 = spark.readStream.format(\"kafka\") \\\n",
    "      .option(\"kafka.bootstrap.servers\", \"host1:port1,host2:port2\") \\\n",
    "      .option(\"subscribe\",\"topic1,topic2\") \\\n",
    "      .load()"
   ]
  },
  {
   "cell_type": "code",
   "execution_count": null,
   "id": "182b14a6-596a-494e-b981-b9661c8069d4",
   "metadata": {},
   "outputs": [],
   "source": [
    "#writing to kafka"
   ]
  },
  {
   "cell_type": "code",
   "execution_count": null,
   "id": "2be4d44d-813e-44c9-88d7-eebb65ab1f00",
   "metadata": {},
   "outputs": [],
   "source": [
    "df1.selectExpr('topic', \"CAST(key AS STRING)\",\"CAST(value AS STRING)\") \\\n",
    "     .writeStream \\\n",
    "     .format(\"kafka\") \\\n",
    "     .option(\"kafka.bootstrap.servers\",\"host1:port1, host2:port2\") \\\n",
    "     .option(\"checkpointLocation\", \"/to/HDFS-compatible/dir\") \\\n",
    "     .option(\"topic\",\"topic1\") \\\n",
    "     .start()"
   ]
  },
  {
   "cell_type": "code",
   "execution_count": null,
   "id": "fb2ad373-967f-4d8e-baf4-050e7db59dbf",
   "metadata": {},
   "outputs": [],
   "source": [
    "#reading data from a socket"
   ]
  },
  {
   "cell_type": "code",
   "execution_count": null,
   "id": "65a65c44-3f47-4480-b51a-5db1c710f33d",
   "metadata": {},
   "outputs": [],
   "source": [
    "socker_df = spark.readStream.format(\"socket\") \\\n",
    "            .option(\"host\",\"localhost\") \\\n",
    "            .option(\"port\",9999) \\\n",
    "            .load()"
   ]
  },
  {
   "cell_type": "code",
   "execution_count": null,
   "id": "2e8bcfaf-855e-4432-9fd3-36364d4715d6",
   "metadata": {},
   "outputs": [],
   "source": [
    "#trigger"
   ]
  },
  {
   "cell_type": "code",
   "execution_count": null,
   "id": "74661ff6-b9f7-4d1d-a57a-589cd840663f",
   "metadata": {},
   "outputs": [],
   "source": [
    "activitycounts.writeStream.trigger(processing.Time='5 seconds') \\\n",
    "              .format('memory') \\\n",
    "              .outputMode(\"complete\") \\\n",
    "              .start()"
   ]
  },
  {
   "cell_type": "code",
   "execution_count": null,
   "id": "62b2eba2-776e-4796-bfe5-326991d14830",
   "metadata": {},
   "outputs": [],
   "source": [
    "activitycounts2.writeStream.trigger(once=True) \\\n",
    "               .format(\"console\") \\\n",
    "               .outputMode(\"complete\") \\\n",
    "               .start()"
   ]
  },
  {
   "cell_type": "code",
   "execution_count": null,
   "id": "4c4373ef-fb1c-49a6-8fc0-5a5079d968c7",
   "metadata": {},
   "outputs": [],
   "source": [
    "# Event-time  streaming"
   ]
  },
  {
   "cell_type": "code",
   "execution_count": null,
   "id": "208114bb-6f6d-45ca-81a5-b81a3fa06076",
   "metadata": {},
   "outputs": [],
   "source": [
    "spark.conf.set(\"spark.sql.shuffle.partitions\",5)\n",
    "\n",
    "static_dataframe = spark.read.option(\"multiline\", \"true\").json('activity-data/')\n",
    "schema = static_dataframe.schema\n",
    "\n",
    "streaming_dataframe = spark.readStream.schema(schema) \\\n",
    ".option('maxFilesPerTrigger', 10) \\\n",
    ".json('activity-data/')"
   ]
  },
  {
   "cell_type": "code",
   "execution_count": null,
   "id": "20bb010b-3b12-4525-bee0-7aa99b2af201",
   "metadata": {},
   "outputs": [],
   "source": [
    "streaming_dataframe.printSchema()"
   ]
  },
  {
   "cell_type": "code",
   "execution_count": null,
   "id": "b0ccaafb-3bff-4f99-baf6-61d1280e83f3",
   "metadata": {},
   "outputs": [],
   "source": [
    "#windows on event time"
   ]
  },
  {
   "cell_type": "code",
   "execution_count": null,
   "id": "37a332cc-7a8d-4e03-b4ba-455f3b5bdf45",
   "metadata": {},
   "outputs": [],
   "source": [
    "withEventTime = streaming_dataframe \\\n",
    ".selectExpr(\"*\", cast(cast(Creation_Time as double)/1000000000) as timestamp) as event_time\")"
   ]
  },
  {
   "cell_type": "code",
   "execution_count": null,
   "id": "2f85ea7d-96dc-4868-9b94-034617461303",
   "metadata": {},
   "outputs": [],
   "source": [
    "from pyspark.sql.functions import window, col"
   ]
  },
  {
   "cell_type": "code",
   "execution_count": null,
   "id": "ae4e3823-98d0-4300-8ffc-bc3ed5b7beb6",
   "metadata": {},
   "outputs": [],
   "source": [
    "withEventTime.groupBy(window(col('event_time'), '10 minutes').count() \\\n",
    ".writeStream \\\n",
    ".queryName(\"pyevents\") \\\n",
    ".format(\"memory\") \\\n",
    ".outputMode(\"complete\") \\\n",
    ".start()"
   ]
  },
  {
   "cell_type": "code",
   "execution_count": null,
   "id": "baf01e46-404f-4c06-8135-15dfe169f4ac",
   "metadata": {},
   "outputs": [],
   "source": [
    "spark.sql(\"SELECT * FROM pyevents\").printSchema()\n",
    "\n",
    "SELECT * FROM events_per_windows"
   ]
  },
  {
   "cell_type": "code",
   "execution_count": null,
   "id": "8daf197d-2df4-43c5-be38-d5a9dc3b7529",
   "metadata": {},
   "outputs": [],
   "source": [
    "withEventTime.groupBy(window(col('event_time'), '10 minutes', 'User').count() \\\n",
    ".writeSchema \\\n",
    ".queryName('payments_per_window') \\\n",
    ".format('memory') \\\n",
    ".outputMode('complete') \\\n",
    ".start()"
   ]
  },
  {
   "cell_type": "code",
   "execution_count": null,
   "id": "820633ad-f7fb-45f6-b27f-6ba6745c291b",
   "metadata": {},
   "outputs": [],
   "source": [
    "withEventTime.groupBy(window(col('event_time'), '10 minutes', '5 minutes')) \\\n",
    ".count() \\\n",
    ".writeStream \\\n",
    ".queryName(\"pyevents\") \\\n",
    ".format(\"memory\") \\\n",
    ".outputMode(\"complete\") \\\n",
    ".start()"
   ]
  },
  {
   "cell_type": "code",
   "execution_count": null,
   "id": "16c33f87-5a10-47e8-893a-5ef37a12a228",
   "metadata": {},
   "outputs": [],
   "source": [
    "withEventTime \\\n",
    ".withWatermark(\"event_time\", \"30 minutes\") \\\n",
    ".groupBy(window(col('event_time'), '10 minutes','5 minutes')) \\\n",
    ".count() \\\n",
    ".writeStream \\\n",
    ".queryName('events_per_window') \\\n",
    ".format(\"memory\") \\\n",
    ".outputMode(\"complete\") \\\n",
    ".start()"
   ]
  },
  {
   "cell_type": "code",
   "execution_count": null,
   "id": "d74eb9f4-3fea-4a63-a0eb-3f61a4d59d0c",
   "metadata": {},
   "outputs": [],
   "source": [
    "SELECT * FROM events_per_window"
   ]
  },
  {
   "cell_type": "code",
   "execution_count": null,
   "id": "ff25ec7e-ce8c-48e6-be80-9620483d0fb2",
   "metadata": {},
   "outputs": [],
   "source": [
    "withEventTime \\\n",
    ".withWatermark(\"event_time\",\"5 seconds\") \\\n",
    ".dropDuplicates([\"User\",\"event_time\"]) \\\n",
    ".groupBy(\"User\") \\\n",
    ".count() \\\n",
    ".writeStream \\\n",
    ".queryName('pydeduplicated') \\\n",
    ".format(\"memory\") \\\n",
    ".outputMode(\"complete\") \\\n",
    ".start()\n"
   ]
  }
 ],
 "metadata": {
  "kernelspec": {
   "display_name": "Python 3 (ipykernel)",
   "language": "python",
   "name": "python3"
  },
  "language_info": {
   "codemirror_mode": {
    "name": "ipython",
    "version": 3
   },
   "file_extension": ".py",
   "mimetype": "text/x-python",
   "name": "python",
   "nbconvert_exporter": "python",
   "pygments_lexer": "ipython3",
   "version": "3.10.13"
  }
 },
 "nbformat": 4,
 "nbformat_minor": 5
}
