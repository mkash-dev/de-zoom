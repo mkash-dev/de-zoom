{
 "cells": [
  {
   "cell_type": "code",
   "execution_count": 1,
   "id": "8b0a4ce4-8b7c-49df-b8cf-b93fc57a1d23",
   "metadata": {},
   "outputs": [],
   "source": [
    "import pandas as pd\n",
    "import pyspark\n",
    "from pyspark.sql import SparkSession\n",
    "from pyspark.conf import SparkConf"
   ]
  },
  {
   "cell_type": "code",
   "execution_count": 2,
   "id": "b8ff9101-329d-4d5f-8850-271c358ee06f",
   "metadata": {},
   "outputs": [
    {
     "data": {
      "text/plain": [
       "<pyspark.conf.SparkConf at 0x7fef50e829b0>"
      ]
     },
     "execution_count": 2,
     "metadata": {},
     "output_type": "execute_result"
    }
   ],
   "source": [
    "conf = SparkConf()\n",
    "conf.set('spark.jars','https://jdbc.postgresql.org/download/postgresql-42.7.1.jar')"
   ]
  },
  {
   "cell_type": "code",
   "execution_count": 3,
   "id": "30063d84-713c-4b6c-ac09-8a0be3ef3aff",
   "metadata": {},
   "outputs": [
    {
     "name": "stderr",
     "output_type": "stream",
     "text": [
      "24/01/28 02:14:17 WARN Utils: Your hostname, codespaces-cbe94a resolves to a loopback address: 127.0.0.1; using 172.16.5.4 instead (on interface eth0)\n",
      "24/01/28 02:14:17 WARN Utils: Set SPARK_LOCAL_IP if you need to bind to another address\n",
      "Setting default log level to \"WARN\".\n",
      "To adjust logging level use sc.setLogLevel(newLevel). For SparkR, use setLogLevel(newLevel).\n",
      "24/01/28 02:14:20 WARN NativeCodeLoader: Unable to load native-hadoop library for your platform... using builtin-java classes where applicable\n"
     ]
    }
   ],
   "source": [
    "spark = SparkSession.builder \\\n",
    ".master(\"local[*]\") \\\n",
    ".appName(\"stream_processing\") \\\n",
    ".config(conf=conf) \\\n",
    ".getOrCreate()"
   ]
  },
  {
   "cell_type": "code",
   "execution_count": 4,
   "id": "d915f9b4-0570-4c62-8dfc-2d29dc9edb8d",
   "metadata": {},
   "outputs": [
    {
     "data": {
      "text/html": [
       "\n",
       "            <div>\n",
       "                <p><b>SparkSession - in-memory</b></p>\n",
       "                \n",
       "        <div>\n",
       "            <p><b>SparkContext</b></p>\n",
       "\n",
       "            <p><a href=\"http://fff59a38-5be8-4e8a-a56d-5def7040d7a9.internal.cloudapp.net:4040\">Spark UI</a></p>\n",
       "\n",
       "            <dl>\n",
       "              <dt>Version</dt>\n",
       "                <dd><code>v3.5.0</code></dd>\n",
       "              <dt>Master</dt>\n",
       "                <dd><code>local[*]</code></dd>\n",
       "              <dt>AppName</dt>\n",
       "                <dd><code>stream_processing</code></dd>\n",
       "            </dl>\n",
       "        </div>\n",
       "        \n",
       "            </div>\n",
       "        "
      ],
      "text/plain": [
       "<pyspark.sql.session.SparkSession at 0x7fef50e385e0>"
      ]
     },
     "execution_count": 4,
     "metadata": {},
     "output_type": "execute_result"
    }
   ],
   "source": [
    "spark"
   ]
  },
  {
   "cell_type": "code",
   "execution_count": 5,
   "id": "ecea9dd3-2ea0-4ca7-a357-ae8e8b12aff6",
   "metadata": {},
   "outputs": [],
   "source": [
    "static_dataframe = spark.read \\\n",
    ".option(\"header\",\"true\") \\\n",
    ".csv(\"data/green/\")"
   ]
  },
  {
   "cell_type": "code",
   "execution_count": 6,
   "id": "e5063db2-8006-4af0-8684-fe87c4183797",
   "metadata": {},
   "outputs": [
    {
     "name": "stdout",
     "output_type": "stream",
     "text": [
      "+--------+--------------------+---------------------+------------------+----------+------------+------------+---------------+-------------+-----------+-----+-------+----------+------------+---------+---------------------+------------+------------+---------+--------------------+\n",
      "|VendorID|lpep_pickup_datetime|lpep_dropoff_datetime|store_and_fwd_flag|RatecodeID|PULocationID|DOLocationID|passenger_count|trip_distance|fare_amount|extra|mta_tax|tip_amount|tolls_amount|ehail_fee|improvement_surcharge|total_amount|payment_type|trip_type|congestion_surcharge|\n",
      "+--------+--------------------+---------------------+------------------+----------+------------+------------+---------------+-------------+-----------+-----+-------+----------+------------+---------+---------------------+------------+------------+---------+--------------------+\n",
      "|       2| 2018-12-21 15:17:29|  2018-12-21 15:18:57|                 N|         1|         264|         264|              5|          .00|          3|  0.5|    0.5|         0|           0|     NULL|                  0.3|         4.3|           2|        1|                NULL|\n",
      "|       2| 2019-01-01 00:10:16|  2019-01-01 00:16:32|                 N|         1|          97|          49|              2|          .86|          6|  0.5|    0.5|         0|           0|     NULL|                  0.3|         7.3|           2|        1|                NULL|\n",
      "|       2| 2019-01-01 00:27:11|  2019-01-01 00:31:38|                 N|         1|          49|         189|              2|          .66|        4.5|  0.5|    0.5|         0|           0|     NULL|                  0.3|         5.8|           1|        1|                NULL|\n",
      "|       2| 2019-01-01 00:46:20|  2019-01-01 01:04:54|                 N|         1|         189|          17|              2|         2.68|       13.5|  0.5|    0.5|      2.96|           0|     NULL|                  0.3|       19.71|           1|        1|                NULL|\n",
      "|       2| 2019-01-01 00:19:06|  2019-01-01 00:39:43|                 N|         1|          82|         258|              1|         4.53|         18|  0.5|    0.5|         0|           0|     NULL|                  0.3|        19.3|           2|        1|                NULL|\n",
      "|       2| 2019-01-01 00:12:35|  2019-01-01 00:19:09|                 N|         1|          49|          17|              1|         1.05|        6.5|  0.5|    0.5|         0|           0|     NULL|                  0.3|         7.8|           1|        1|                NULL|\n",
      "|       2| 2019-01-01 00:47:55|  2019-01-01 01:00:01|                 N|         1|         255|          33|              1|         3.77|       13.5|  0.5|    0.5|         0|           0|     NULL|                  0.3|        14.8|           1|        1|                NULL|\n",
      "|       1| 2019-01-01 00:12:47|  2019-01-01 00:30:50|                 N|         1|          76|         225|              1|         4.10|         16|  0.5|    0.5|         0|           0|     NULL|                  0.3|        17.3|           1|        1|                NULL|\n",
      "|       2| 2019-01-01 00:16:23|  2019-01-01 00:39:46|                 N|         1|          25|          89|              1|         7.75|       25.5|  0.5|    0.5|         0|           0|     NULL|                  0.3|        26.8|           1|        1|                NULL|\n",
      "|       2| 2019-01-01 00:58:02|  2019-01-01 01:19:02|                 N|         1|          85|          39|              1|         3.68|       15.5|  0.5|    0.5|         0|           0|     NULL|                  0.3|        16.8|           1|        1|                NULL|\n",
      "|       2| 2019-01-01 00:37:00|  2019-01-01 00:56:42|                 N|         1|         223|         238|              1|         6.84|         22|  0.5|    0.5|         8|        5.76|     NULL|                  0.3|       37.06|           1|        1|                NULL|\n",
      "|       2| 2019-01-01 00:13:48|  2019-01-01 00:21:00|                 N|         1|         129|         129|              2|         1.15|        6.5|  0.5|    0.5|      1.56|           0|     NULL|                  0.3|        9.36|           1|        1|                NULL|\n",
      "|       2| 2019-01-01 00:19:59|  2019-01-01 00:45:50|                 N|         1|          71|          71|              1|          .49|       15.5|  0.5|    0.5|         0|           0|     NULL|                  0.3|        16.8|           1|        1|                NULL|\n",
      "|       2| 2019-01-01 00:57:57|  2019-01-01 01:20:10|                 N|         1|          85|         177|              1|         3.61|         17|  0.5|    0.5|         0|           0|     NULL|                  0.3|        18.3|           1|        1|                NULL|\n",
      "|       1| 2019-01-01 00:09:02|  2019-01-01 00:17:50|                 N|         1|         256|          80|              1|         1.20|        7.5|  0.5|    0.5|       5.2|           0|     NULL|                  0.3|          14|           1|        1|                NULL|\n",
      "|       1| 2019-01-01 00:22:12|  2019-01-01 00:25:29|                 N|         1|          80|          80|              1|          .50|          4|  0.5|    0.5|         0|           0|     NULL|                  0.3|         5.3|           2|        1|                NULL|\n",
      "|       1| 2019-01-01 00:31:55|  2019-01-01 00:52:59|                 N|         1|         256|         229|              1|         5.50|       19.5|  0.5|    0.5|      4.15|           0|     NULL|                  0.3|       24.95|           1|        1|                NULL|\n",
      "|       2| 2019-01-01 00:30:20|  2019-01-01 00:54:19|                 N|         1|         255|         231|              1|         5.01|         20|  0.5|    0.5|      4.26|           0|     NULL|                  0.3|       25.56|           1|        1|                NULL|\n",
      "|       2| 2018-12-31 23:58:06|  2019-01-01 00:00:57|                 N|         1|         146|           7|              1|          .43|          4|  0.5|    0.5|      1.06|           0|     NULL|                  0.3|        6.36|           1|        1|                NULL|\n",
      "|       2| 2019-01-01 00:40:17|  2019-01-01 00:50:23|                 N|         1|         146|         129|              1|         2.72|       10.5|  0.5|    0.5|      2.36|           0|     NULL|                  0.3|       14.16|           1|        1|                NULL|\n",
      "+--------+--------------------+---------------------+------------------+----------+------------+------------+---------------+-------------+-----------+-----+-------+----------+------------+---------+---------------------+------------+------------+---------+--------------------+\n",
      "only showing top 20 rows\n",
      "\n"
     ]
    }
   ],
   "source": [
    "static_dataframe.show()"
   ]
  },
  {
   "cell_type": "code",
   "execution_count": 7,
   "id": "305e8334-845c-4774-9237-0274861af9bb",
   "metadata": {},
   "outputs": [
    {
     "data": {
      "text/plain": [
       "StructType([StructField('VendorID', StringType(), True), StructField('lpep_pickup_datetime', StringType(), True), StructField('lpep_dropoff_datetime', StringType(), True), StructField('store_and_fwd_flag', StringType(), True), StructField('RatecodeID', StringType(), True), StructField('PULocationID', StringType(), True), StructField('DOLocationID', StringType(), True), StructField('passenger_count', StringType(), True), StructField('trip_distance', StringType(), True), StructField('fare_amount', StringType(), True), StructField('extra', StringType(), True), StructField('mta_tax', StringType(), True), StructField('tip_amount', StringType(), True), StructField('tolls_amount', StringType(), True), StructField('ehail_fee', StringType(), True), StructField('improvement_surcharge', StringType(), True), StructField('total_amount', StringType(), True), StructField('payment_type', StringType(), True), StructField('trip_type', StringType(), True), StructField('congestion_surcharge', StringType(), True)])"
      ]
     },
     "execution_count": 7,
     "metadata": {},
     "output_type": "execute_result"
    }
   ],
   "source": [
    "static_dataframe.schema"
   ]
  },
  {
   "cell_type": "code",
   "execution_count": 8,
   "id": "09832d4c-b91a-4f28-a656-3f22fe8d9732",
   "metadata": {},
   "outputs": [],
   "source": [
    "df = pd.read_csv('data/green/green_tripdata_2019-01.csv.gz', compression='gzip', nrows=5)"
   ]
  },
  {
   "cell_type": "code",
   "execution_count": 9,
   "id": "f2126177-c3a8-494c-8bed-b4d1cffdc48a",
   "metadata": {},
   "outputs": [
    {
     "data": {
      "text/html": [
       "<div>\n",
       "<style scoped>\n",
       "    .dataframe tbody tr th:only-of-type {\n",
       "        vertical-align: middle;\n",
       "    }\n",
       "\n",
       "    .dataframe tbody tr th {\n",
       "        vertical-align: top;\n",
       "    }\n",
       "\n",
       "    .dataframe thead th {\n",
       "        text-align: right;\n",
       "    }\n",
       "</style>\n",
       "<table border=\"1\" class=\"dataframe\">\n",
       "  <thead>\n",
       "    <tr style=\"text-align: right;\">\n",
       "      <th></th>\n",
       "      <th>VendorID</th>\n",
       "      <th>lpep_pickup_datetime</th>\n",
       "      <th>lpep_dropoff_datetime</th>\n",
       "      <th>store_and_fwd_flag</th>\n",
       "      <th>RatecodeID</th>\n",
       "      <th>PULocationID</th>\n",
       "      <th>DOLocationID</th>\n",
       "      <th>passenger_count</th>\n",
       "      <th>trip_distance</th>\n",
       "      <th>fare_amount</th>\n",
       "      <th>extra</th>\n",
       "      <th>mta_tax</th>\n",
       "      <th>tip_amount</th>\n",
       "      <th>tolls_amount</th>\n",
       "      <th>ehail_fee</th>\n",
       "      <th>improvement_surcharge</th>\n",
       "      <th>total_amount</th>\n",
       "      <th>payment_type</th>\n",
       "      <th>trip_type</th>\n",
       "      <th>congestion_surcharge</th>\n",
       "    </tr>\n",
       "  </thead>\n",
       "  <tbody>\n",
       "    <tr>\n",
       "      <th>0</th>\n",
       "      <td>2</td>\n",
       "      <td>2018-12-21 15:17:29</td>\n",
       "      <td>2018-12-21 15:18:57</td>\n",
       "      <td>N</td>\n",
       "      <td>1</td>\n",
       "      <td>264</td>\n",
       "      <td>264</td>\n",
       "      <td>5</td>\n",
       "      <td>0.00</td>\n",
       "      <td>3.0</td>\n",
       "      <td>0.5</td>\n",
       "      <td>0.5</td>\n",
       "      <td>0.00</td>\n",
       "      <td>0</td>\n",
       "      <td>NaN</td>\n",
       "      <td>0.3</td>\n",
       "      <td>4.30</td>\n",
       "      <td>2</td>\n",
       "      <td>1</td>\n",
       "      <td>NaN</td>\n",
       "    </tr>\n",
       "    <tr>\n",
       "      <th>1</th>\n",
       "      <td>2</td>\n",
       "      <td>2019-01-01 00:10:16</td>\n",
       "      <td>2019-01-01 00:16:32</td>\n",
       "      <td>N</td>\n",
       "      <td>1</td>\n",
       "      <td>97</td>\n",
       "      <td>49</td>\n",
       "      <td>2</td>\n",
       "      <td>0.86</td>\n",
       "      <td>6.0</td>\n",
       "      <td>0.5</td>\n",
       "      <td>0.5</td>\n",
       "      <td>0.00</td>\n",
       "      <td>0</td>\n",
       "      <td>NaN</td>\n",
       "      <td>0.3</td>\n",
       "      <td>7.30</td>\n",
       "      <td>2</td>\n",
       "      <td>1</td>\n",
       "      <td>NaN</td>\n",
       "    </tr>\n",
       "    <tr>\n",
       "      <th>2</th>\n",
       "      <td>2</td>\n",
       "      <td>2019-01-01 00:27:11</td>\n",
       "      <td>2019-01-01 00:31:38</td>\n",
       "      <td>N</td>\n",
       "      <td>1</td>\n",
       "      <td>49</td>\n",
       "      <td>189</td>\n",
       "      <td>2</td>\n",
       "      <td>0.66</td>\n",
       "      <td>4.5</td>\n",
       "      <td>0.5</td>\n",
       "      <td>0.5</td>\n",
       "      <td>0.00</td>\n",
       "      <td>0</td>\n",
       "      <td>NaN</td>\n",
       "      <td>0.3</td>\n",
       "      <td>5.80</td>\n",
       "      <td>1</td>\n",
       "      <td>1</td>\n",
       "      <td>NaN</td>\n",
       "    </tr>\n",
       "    <tr>\n",
       "      <th>3</th>\n",
       "      <td>2</td>\n",
       "      <td>2019-01-01 00:46:20</td>\n",
       "      <td>2019-01-01 01:04:54</td>\n",
       "      <td>N</td>\n",
       "      <td>1</td>\n",
       "      <td>189</td>\n",
       "      <td>17</td>\n",
       "      <td>2</td>\n",
       "      <td>2.68</td>\n",
       "      <td>13.5</td>\n",
       "      <td>0.5</td>\n",
       "      <td>0.5</td>\n",
       "      <td>2.96</td>\n",
       "      <td>0</td>\n",
       "      <td>NaN</td>\n",
       "      <td>0.3</td>\n",
       "      <td>19.71</td>\n",
       "      <td>1</td>\n",
       "      <td>1</td>\n",
       "      <td>NaN</td>\n",
       "    </tr>\n",
       "    <tr>\n",
       "      <th>4</th>\n",
       "      <td>2</td>\n",
       "      <td>2019-01-01 00:19:06</td>\n",
       "      <td>2019-01-01 00:39:43</td>\n",
       "      <td>N</td>\n",
       "      <td>1</td>\n",
       "      <td>82</td>\n",
       "      <td>258</td>\n",
       "      <td>1</td>\n",
       "      <td>4.53</td>\n",
       "      <td>18.0</td>\n",
       "      <td>0.5</td>\n",
       "      <td>0.5</td>\n",
       "      <td>0.00</td>\n",
       "      <td>0</td>\n",
       "      <td>NaN</td>\n",
       "      <td>0.3</td>\n",
       "      <td>19.30</td>\n",
       "      <td>2</td>\n",
       "      <td>1</td>\n",
       "      <td>NaN</td>\n",
       "    </tr>\n",
       "  </tbody>\n",
       "</table>\n",
       "</div>"
      ],
      "text/plain": [
       "   VendorID lpep_pickup_datetime lpep_dropoff_datetime store_and_fwd_flag  \\\n",
       "0         2  2018-12-21 15:17:29   2018-12-21 15:18:57                  N   \n",
       "1         2  2019-01-01 00:10:16   2019-01-01 00:16:32                  N   \n",
       "2         2  2019-01-01 00:27:11   2019-01-01 00:31:38                  N   \n",
       "3         2  2019-01-01 00:46:20   2019-01-01 01:04:54                  N   \n",
       "4         2  2019-01-01 00:19:06   2019-01-01 00:39:43                  N   \n",
       "\n",
       "   RatecodeID  PULocationID  DOLocationID  passenger_count  trip_distance  \\\n",
       "0           1           264           264                5           0.00   \n",
       "1           1            97            49                2           0.86   \n",
       "2           1            49           189                2           0.66   \n",
       "3           1           189            17                2           2.68   \n",
       "4           1            82           258                1           4.53   \n",
       "\n",
       "   fare_amount  extra  mta_tax  tip_amount  tolls_amount  ehail_fee  \\\n",
       "0          3.0    0.5      0.5        0.00             0        NaN   \n",
       "1          6.0    0.5      0.5        0.00             0        NaN   \n",
       "2          4.5    0.5      0.5        0.00             0        NaN   \n",
       "3         13.5    0.5      0.5        2.96             0        NaN   \n",
       "4         18.0    0.5      0.5        0.00             0        NaN   \n",
       "\n",
       "   improvement_surcharge  total_amount  payment_type  trip_type  \\\n",
       "0                    0.3          4.30             2          1   \n",
       "1                    0.3          7.30             2          1   \n",
       "2                    0.3          5.80             1          1   \n",
       "3                    0.3         19.71             1          1   \n",
       "4                    0.3         19.30             2          1   \n",
       "\n",
       "   congestion_surcharge  \n",
       "0                   NaN  \n",
       "1                   NaN  \n",
       "2                   NaN  \n",
       "3                   NaN  \n",
       "4                   NaN  "
      ]
     },
     "execution_count": 9,
     "metadata": {},
     "output_type": "execute_result"
    }
   ],
   "source": [
    "df"
   ]
  },
  {
   "cell_type": "code",
   "execution_count": 10,
   "id": "707afedf-daf3-4da4-a16c-58295938ba52",
   "metadata": {},
   "outputs": [
    {
     "data": {
      "text/plain": [
       "VendorID                   int64\n",
       "lpep_pickup_datetime      object\n",
       "lpep_dropoff_datetime     object\n",
       "store_and_fwd_flag        object\n",
       "RatecodeID                 int64\n",
       "PULocationID               int64\n",
       "DOLocationID               int64\n",
       "passenger_count            int64\n",
       "trip_distance            float64\n",
       "fare_amount              float64\n",
       "extra                    float64\n",
       "mta_tax                  float64\n",
       "tip_amount               float64\n",
       "tolls_amount               int64\n",
       "ehail_fee                float64\n",
       "improvement_surcharge    float64\n",
       "total_amount             float64\n",
       "payment_type               int64\n",
       "trip_type                  int64\n",
       "congestion_surcharge     float64\n",
       "dtype: object"
      ]
     },
     "execution_count": 10,
     "metadata": {},
     "output_type": "execute_result"
    }
   ],
   "source": [
    "df.dtypes"
   ]
  },
  {
   "cell_type": "code",
   "execution_count": 11,
   "id": "98307d50-e15a-4265-82c0-067702b7de4e",
   "metadata": {},
   "outputs": [
    {
     "data": {
      "text/plain": [
       "DataFrame[VendorID: bigint, lpep_pickup_datetime: string, lpep_dropoff_datetime: string, store_and_fwd_flag: string, RatecodeID: bigint, PULocationID: bigint, DOLocationID: bigint, passenger_count: bigint, trip_distance: double, fare_amount: double, extra: double, mta_tax: double, tip_amount: double, tolls_amount: bigint, ehail_fee: double, improvement_surcharge: double, total_amount: double, payment_type: bigint, trip_type: bigint, congestion_surcharge: double]"
      ]
     },
     "execution_count": 11,
     "metadata": {},
     "output_type": "execute_result"
    }
   ],
   "source": [
    "spark.createDataFrame(df)"
   ]
  },
  {
   "cell_type": "code",
   "execution_count": 12,
   "id": "7f73cc2f-b541-445f-9fcc-479ab90173f4",
   "metadata": {},
   "outputs": [],
   "source": [
    "spark_dataframe =  spark.createDataFrame(df)"
   ]
  },
  {
   "cell_type": "code",
   "execution_count": 13,
   "id": "61d9b70c-65d2-482a-8309-030365b2ed76",
   "metadata": {},
   "outputs": [
    {
     "name": "stderr",
     "output_type": "stream",
     "text": [
      "                                                                                \r"
     ]
    },
    {
     "name": "stdout",
     "output_type": "stream",
     "text": [
      "+--------+--------------------+---------------------+------------------+----------+------------+------------+---------------+-------------+-----------+-----+-------+----------+------------+---------+---------------------+------------+------------+---------+--------------------+\n",
      "|VendorID|lpep_pickup_datetime|lpep_dropoff_datetime|store_and_fwd_flag|RatecodeID|PULocationID|DOLocationID|passenger_count|trip_distance|fare_amount|extra|mta_tax|tip_amount|tolls_amount|ehail_fee|improvement_surcharge|total_amount|payment_type|trip_type|congestion_surcharge|\n",
      "+--------+--------------------+---------------------+------------------+----------+------------+------------+---------------+-------------+-----------+-----+-------+----------+------------+---------+---------------------+------------+------------+---------+--------------------+\n",
      "|       2| 2018-12-21 15:17:29|  2018-12-21 15:18:57|                 N|         1|         264|         264|              5|          0.0|        3.0|  0.5|    0.5|       0.0|           0|      NaN|                  0.3|         4.3|           2|        1|                 NaN|\n",
      "|       2| 2019-01-01 00:10:16|  2019-01-01 00:16:32|                 N|         1|          97|          49|              2|         0.86|        6.0|  0.5|    0.5|       0.0|           0|      NaN|                  0.3|         7.3|           2|        1|                 NaN|\n",
      "|       2| 2019-01-01 00:27:11|  2019-01-01 00:31:38|                 N|         1|          49|         189|              2|         0.66|        4.5|  0.5|    0.5|       0.0|           0|      NaN|                  0.3|         5.8|           1|        1|                 NaN|\n",
      "|       2| 2019-01-01 00:46:20|  2019-01-01 01:04:54|                 N|         1|         189|          17|              2|         2.68|       13.5|  0.5|    0.5|      2.96|           0|      NaN|                  0.3|       19.71|           1|        1|                 NaN|\n",
      "|       2| 2019-01-01 00:19:06|  2019-01-01 00:39:43|                 N|         1|          82|         258|              1|         4.53|       18.0|  0.5|    0.5|       0.0|           0|      NaN|                  0.3|        19.3|           2|        1|                 NaN|\n",
      "+--------+--------------------+---------------------+------------------+----------+------------+------------+---------------+-------------+-----------+-----+-------+----------+------------+---------+---------------------+------------+------------+---------+--------------------+\n",
      "\n"
     ]
    }
   ],
   "source": [
    "spark_dataframe.show()"
   ]
  },
  {
   "cell_type": "code",
   "execution_count": 14,
   "id": "e112e777-8095-42e4-901e-998bfe4ca665",
   "metadata": {},
   "outputs": [
    {
     "name": "stdout",
     "output_type": "stream",
     "text": [
      "root\n",
      " |-- VendorID: long (nullable = true)\n",
      " |-- lpep_pickup_datetime: string (nullable = true)\n",
      " |-- lpep_dropoff_datetime: string (nullable = true)\n",
      " |-- store_and_fwd_flag: string (nullable = true)\n",
      " |-- RatecodeID: long (nullable = true)\n",
      " |-- PULocationID: long (nullable = true)\n",
      " |-- DOLocationID: long (nullable = true)\n",
      " |-- passenger_count: long (nullable = true)\n",
      " |-- trip_distance: double (nullable = true)\n",
      " |-- fare_amount: double (nullable = true)\n",
      " |-- extra: double (nullable = true)\n",
      " |-- mta_tax: double (nullable = true)\n",
      " |-- tip_amount: double (nullable = true)\n",
      " |-- tolls_amount: long (nullable = true)\n",
      " |-- ehail_fee: double (nullable = true)\n",
      " |-- improvement_surcharge: double (nullable = true)\n",
      " |-- total_amount: double (nullable = true)\n",
      " |-- payment_type: long (nullable = true)\n",
      " |-- trip_type: long (nullable = true)\n",
      " |-- congestion_surcharge: double (nullable = true)\n",
      "\n"
     ]
    }
   ],
   "source": [
    "spark_dataframe.printSchema()"
   ]
  },
  {
   "cell_type": "code",
   "execution_count": 15,
   "id": "2758c32b-69e2-4197-9a48-31ef7e8175f6",
   "metadata": {},
   "outputs": [
    {
     "data": {
      "text/plain": [
       "StructType([StructField('VendorID', LongType(), True), StructField('lpep_pickup_datetime', StringType(), True), StructField('lpep_dropoff_datetime', StringType(), True), StructField('store_and_fwd_flag', StringType(), True), StructField('RatecodeID', LongType(), True), StructField('PULocationID', LongType(), True), StructField('DOLocationID', LongType(), True), StructField('passenger_count', LongType(), True), StructField('trip_distance', DoubleType(), True), StructField('fare_amount', DoubleType(), True), StructField('extra', DoubleType(), True), StructField('mta_tax', DoubleType(), True), StructField('tip_amount', DoubleType(), True), StructField('tolls_amount', LongType(), True), StructField('ehail_fee', DoubleType(), True), StructField('improvement_surcharge', DoubleType(), True), StructField('total_amount', DoubleType(), True), StructField('payment_type', LongType(), True), StructField('trip_type', LongType(), True), StructField('congestion_surcharge', DoubleType(), True)])"
      ]
     },
     "execution_count": 15,
     "metadata": {},
     "output_type": "execute_result"
    }
   ],
   "source": [
    "spark_dataframe.schema"
   ]
  },
  {
   "cell_type": "code",
   "execution_count": 16,
   "id": "8f0bec06-da39-4460-b524-ba64049edd03",
   "metadata": {},
   "outputs": [
    {
     "name": "stderr",
     "output_type": "stream",
     "text": [
      "24/01/28 02:14:32 WARN GarbageCollectionMetrics: To enable non-built-in garbage collector(s) List(G1 Concurrent GC), users should configure it(them) to spark.eventLog.gcMetrics.youngGenerationGarbageCollectors or spark.eventLog.gcMetrics.oldGenerationGarbageCollectors\n"
     ]
    }
   ],
   "source": [
    "from pyspark.sql.types import StructField,StructType,IntegerType,TimestampType,StringType,DoubleType"
   ]
  },
  {
   "cell_type": "code",
   "execution_count": 17,
   "id": "6686f1a1-3c4d-40d8-97c9-2538c35eeee5",
   "metadata": {},
   "outputs": [],
   "source": [
    "static_dataframe_schema = StructType([\n",
    "    StructField('VendorID', IntegerType(), True), \n",
    "    StructField('lpep_pickup_datetime', TimestampType(), True),\n",
    "    StructField('lpep_dropoff_datetime', TimestampType(), True), \n",
    "    StructField('store_and_fwd_flag', StringType(), True), \n",
    "    StructField('RatecodeID', IntegerType(), True), \n",
    "    StructField('PULocationID', IntegerType(), True), \n",
    "    StructField('DOLocationID', IntegerType(), True), \n",
    "    StructField('passenger_count', IntegerType(), True), \n",
    "    StructField('trip_distance', DoubleType(), True), \n",
    "    StructField('fare_amount', DoubleType(), True), \n",
    "    StructField('extra', DoubleType(), True), \n",
    "    StructField('mta_tax', DoubleType(), True), \n",
    "    StructField('tip_amount', DoubleType(), True), \n",
    "    StructField('tolls_amount', IntegerType(), True), \n",
    "    StructField('ehail_fee', DoubleType(), True), \n",
    "    StructField('improvement_surcharge', DoubleType(), True), \n",
    "    StructField('total_amount', DoubleType(), True), \n",
    "    StructField('payment_type', IntegerType(), True), \n",
    "    StructField('trip_type', IntegerType(), True), \n",
    "    StructField('congestion_surcharge', DoubleType(), True)\n",
    " ])\n"
   ]
  },
  {
   "cell_type": "code",
   "execution_count": 18,
   "id": "32907fd7-12fd-4106-8d7a-7a47cc310b6f",
   "metadata": {},
   "outputs": [],
   "source": [
    "static_dataframe = spark.read \\\n",
    ".schema(static_dataframe_schema) \\\n",
    ".option(\"header\",\"true\") \\\n",
    ".csv(\"data/green/\")"
   ]
  },
  {
   "cell_type": "code",
   "execution_count": 19,
   "id": "8b4e9d20-e32e-400f-840c-87bbe6a64312",
   "metadata": {},
   "outputs": [
    {
     "name": "stdout",
     "output_type": "stream",
     "text": [
      "root\n",
      " |-- VendorID: integer (nullable = true)\n",
      " |-- lpep_pickup_datetime: timestamp (nullable = true)\n",
      " |-- lpep_dropoff_datetime: timestamp (nullable = true)\n",
      " |-- store_and_fwd_flag: string (nullable = true)\n",
      " |-- RatecodeID: integer (nullable = true)\n",
      " |-- PULocationID: integer (nullable = true)\n",
      " |-- DOLocationID: integer (nullable = true)\n",
      " |-- passenger_count: integer (nullable = true)\n",
      " |-- trip_distance: double (nullable = true)\n",
      " |-- fare_amount: double (nullable = true)\n",
      " |-- extra: double (nullable = true)\n",
      " |-- mta_tax: double (nullable = true)\n",
      " |-- tip_amount: double (nullable = true)\n",
      " |-- tolls_amount: integer (nullable = true)\n",
      " |-- ehail_fee: double (nullable = true)\n",
      " |-- improvement_surcharge: double (nullable = true)\n",
      " |-- total_amount: double (nullable = true)\n",
      " |-- payment_type: integer (nullable = true)\n",
      " |-- trip_type: integer (nullable = true)\n",
      " |-- congestion_surcharge: double (nullable = true)\n",
      "\n"
     ]
    }
   ],
   "source": [
    "static_dataframe.printSchema()"
   ]
  },
  {
   "cell_type": "code",
   "execution_count": 20,
   "id": "1bc399b3-d9b1-4361-a3ea-58f57dcb146b",
   "metadata": {},
   "outputs": [],
   "source": [
    "streaming_dataframe = spark.readStream \\\n",
    ".schema(static_dataframe_schema) \\\n",
    ".option('maxFilesPerTrigger','1') \\\n",
    ".csv('data/green/')"
   ]
  },
  {
   "cell_type": "code",
   "execution_count": 21,
   "id": "24cd3e94-1672-4ae9-bd3e-7d80bb0281d9",
   "metadata": {},
   "outputs": [],
   "source": [
    "spark.conf.set('spark.sql.shuffle.partitions', '5')"
   ]
  },
  {
   "cell_type": "code",
   "execution_count": 22,
   "id": "55432985-86ce-4d91-a05f-80ad8d84e553",
   "metadata": {},
   "outputs": [
    {
     "name": "stderr",
     "output_type": "stream",
     "text": [
      "24/01/28 02:14:41 WARN ResolveWriteToStream: Temporary checkpoint location created which is deleted normally when the query didn't fail: /tmp/temporary-e93f397b-6bce-4d7b-81fe-7a444658be9e. If it's required to delete it under any circumstances, please set spark.sql.streaming.forceDeleteTempCheckpointLocation to true. Important to know deleting temp checkpoint folder is best effort.\n",
      "24/01/28 02:14:41 WARN ResolveWriteToStream: spark.sql.adaptive.enabled is not supported in streaming DataFrames/Datasets and will be disabled.\n"
     ]
    }
   ],
   "source": [
    "green_taxi_data = streaming_dataframe \\\n",
    ".drop('congestion_surcharge','improvement_surcharge') \\\n",
    ".groupBy('passenger_count','VendorID') \\\n",
    ".count() \\\n",
    ".writeStream \\\n",
    ".queryName('green_taxi_data_counts_one') \\\n",
    ".format('memory') \\\n",
    ".outputMode('complete') \\\n",
    ".start()"
   ]
  },
  {
   "cell_type": "code",
   "execution_count": 23,
   "id": "578b2b7a-d843-4b5a-a0f5-d7ef95e0522a",
   "metadata": {},
   "outputs": [
    {
     "name": "stderr",
     "output_type": "stream",
     "text": [
      "[Stage 4:>                                                          (0 + 1) / 1]\r"
     ]
    }
   ],
   "source": [
    "#green_taxi_data.awaitTermination()"
   ]
  },
  {
   "cell_type": "code",
   "execution_count": 24,
   "id": "2f2baf49-07eb-4218-94bc-a2000ef9f888",
   "metadata": {},
   "outputs": [
    {
     "data": {
      "text/plain": [
       "DataFrame[passenger_count: int, VendorID: int, count: bigint]"
      ]
     },
     "execution_count": 24,
     "metadata": {},
     "output_type": "execute_result"
    },
    {
     "name": "stderr",
     "output_type": "stream",
     "text": [
      "[Stage 5:=======================>                                   (2 + 2) / 5]\r"
     ]
    }
   ],
   "source": [
    "spark.sql(\"SELECT * FROM green_taxi_data_counts_one \")"
   ]
  },
  {
   "cell_type": "code",
   "execution_count": 25,
   "id": "1636a567-76f7-4d37-b2d7-7c69eb1542f0",
   "metadata": {},
   "outputs": [
    {
     "name": "stdout",
     "output_type": "stream",
     "text": [
      "+---------------+--------+-----+\n",
      "|passenger_count|VendorID|count|\n",
      "+---------------+--------+-----+\n",
      "+---------------+--------+-----+\n",
      "\n"
     ]
    },
    {
     "name": "stderr",
     "output_type": "stream",
     "text": [
      "                                                                                \r"
     ]
    }
   ],
   "source": [
    "spark.sql(\"SELECT * FROM green_taxi_data_counts_one \").show()"
   ]
  },
  {
   "cell_type": "code",
   "execution_count": 26,
   "id": "6bbe94f4-447a-4486-a2b4-a1a86fba740c",
   "metadata": {},
   "outputs": [
    {
     "name": "stderr",
     "output_type": "stream",
     "text": [
      "                                                                                \r"
     ]
    },
    {
     "name": "stdout",
     "output_type": "stream",
     "text": [
      "+---------------+--------+------+\n",
      "|passenger_count|VendorID| count|\n",
      "+---------------+--------+------+\n",
      "|              4|       2|  2593|\n",
      "|              6|       1|    28|\n",
      "|              5|       1|    26|\n",
      "|              3|       1|  1789|\n",
      "|              5|       2| 20524|\n",
      "|              1|       2|462025|\n",
      "|              0|       2|   107|\n",
      "|           NULL|    NULL|     1|\n",
      "|              3|       2|  6386|\n",
      "|              2|       1|  8551|\n",
      "|              1|       1| 81483|\n",
      "|              6|       2| 10012|\n",
      "|              7|       2|     7|\n",
      "|              4|       1|   451|\n",
      "|              8|       2|    16|\n",
      "|              9|       2|    11|\n",
      "|              0|       1|  1355|\n",
      "|              2|       2| 35554|\n",
      "+---------------+--------+------+\n",
      "\n"
     ]
    },
    {
     "name": "stderr",
     "output_type": "stream",
     "text": [
      "[Stage 6:>                                                          (0 + 1) / 1]\r"
     ]
    }
   ],
   "source": [
    "df_1 = spark.sql(\"SELECT * FROM green_taxi_data_counts_one \").show()"
   ]
  },
  {
   "cell_type": "code",
   "execution_count": 27,
   "id": "b887f7dc-be70-45f9-98c8-40216363d753",
   "metadata": {},
   "outputs": [
    {
     "name": "stderr",
     "output_type": "stream",
     "text": [
      "                                                                                \r"
     ]
    },
    {
     "name": "stdout",
     "output_type": "stream",
     "text": [
      "+---------------+--------+------+\n",
      "|passenger_count|VendorID| count|\n",
      "+---------------+--------+------+\n",
      "|              4|       2|  5100|\n",
      "|              6|       1|    42|\n",
      "|              5|       1|    56|\n",
      "|              3|       1|  3298|\n",
      "|              5|       2| 38195|\n",
      "|              1|       2|885976|\n",
      "|              0|       2|   269|\n",
      "|           NULL|    NULL|     2|\n",
      "|              3|       2| 12309|\n",
      "|              2|       1| 16363|\n",
      "|              1|       1|154922|\n",
      "|              6|       2| 18481|\n",
      "|              7|       2|    18|\n",
      "|              4|       1|   850|\n",
      "|              8|       2|    23|\n",
      "|              9|       2|    12|\n",
      "|              0|       1|  2302|\n",
      "|              2|       2| 68387|\n",
      "+---------------+--------+------+\n",
      "\n"
     ]
    },
    {
     "name": "stderr",
     "output_type": "stream",
     "text": [
      "                                                                                \r"
     ]
    },
    {
     "name": "stdout",
     "output_type": "stream",
     "text": [
      "+---------------+--------+------+\n",
      "|passenger_count|VendorID| count|\n",
      "+---------------+--------+------+\n",
      "|              4|       2|  5100|\n",
      "|              6|       1|    42|\n",
      "|              5|       1|    56|\n",
      "|              3|       1|  3298|\n",
      "|              5|       2| 38195|\n",
      "|              1|       2|885976|\n",
      "|              0|       2|   269|\n",
      "|           NULL|    NULL|     2|\n",
      "|              3|       2| 12309|\n",
      "|              2|       1| 16363|\n",
      "|              1|       1|154922|\n",
      "|              6|       2| 18481|\n",
      "|              7|       2|    18|\n",
      "|              4|       1|   850|\n",
      "|              8|       2|    23|\n",
      "|              9|       2|    12|\n",
      "|              0|       1|  2302|\n",
      "|              2|       2| 68387|\n",
      "+---------------+--------+------+\n",
      "\n",
      "+---------------+--------+-------+\n",
      "|passenger_count|VendorID|  count|\n",
      "+---------------+--------+-------+\n",
      "|              4|       2|   7615|\n",
      "|              6|       1|     60|\n",
      "|              5|       1|     87|\n",
      "|              3|       1|   5205|\n",
      "|              5|       2|  55715|\n",
      "|              1|       2|1328171|\n",
      "|              0|       2|    443|\n",
      "|           NULL|    NULL|      3|\n",
      "|              3|       2|  18101|\n",
      "|              2|       1|  24668|\n",
      "|              1|       1| 232728|\n",
      "|              6|       2|  27331|\n",
      "|              7|       2|     26|\n",
      "|              4|       1|   1323|\n",
      "|              8|       2|     34|\n",
      "|              9|       2|     17|\n",
      "|              0|       1|   3257|\n",
      "|              2|       2| 102924|\n",
      "+---------------+--------+-------+\n",
      "\n"
     ]
    },
    {
     "name": "stderr",
     "output_type": "stream",
     "text": [
      "                                                                                \r"
     ]
    },
    {
     "name": "stdout",
     "output_type": "stream",
     "text": [
      "+---------------+--------+-------+\n",
      "|passenger_count|VendorID|  count|\n",
      "+---------------+--------+-------+\n",
      "|              4|       2|   7615|\n",
      "|              6|       1|     60|\n",
      "|              5|       1|     87|\n",
      "|              3|       1|   5205|\n",
      "|              5|       2|  55715|\n",
      "|              1|       2|1328171|\n",
      "|              0|       2|    443|\n",
      "|           NULL|    NULL|      3|\n",
      "|              3|       2|  18101|\n",
      "|              2|       1|  24668|\n",
      "|              1|       1| 232728|\n",
      "|              6|       2|  27331|\n",
      "|              7|       2|     26|\n",
      "|              4|       1|   1323|\n",
      "|              8|       2|     34|\n",
      "|              9|       2|     17|\n",
      "|              0|       1|   3257|\n",
      "|              2|       2| 102924|\n",
      "+---------------+--------+-------+\n",
      "\n"
     ]
    },
    {
     "name": "stderr",
     "output_type": "stream",
     "text": [
      "                                                                                \r"
     ]
    },
    {
     "name": "stdout",
     "output_type": "stream",
     "text": [
      "+---------------+--------+-------+\n",
      "|passenger_count|VendorID|  count|\n",
      "+---------------+--------+-------+\n",
      "|              4|       2|   9870|\n",
      "|              6|       1|     84|\n",
      "|              5|       1|    123|\n",
      "|              3|       1|   7150|\n",
      "|              5|       2|  70276|\n",
      "|              1|       2|1697506|\n",
      "|              0|       2|    546|\n",
      "|           NULL|    NULL|      4|\n",
      "|              3|       2|  23279|\n",
      "|              2|       1|  32434|\n",
      "|              1|       1| 305054|\n",
      "|              6|       2|  35770|\n",
      "|              7|       2|     30|\n",
      "|              4|       1|   1899|\n",
      "|              8|       2|     46|\n",
      "|              9|       2|     19|\n",
      "|              0|       1|   4176|\n",
      "|              2|       2| 133835|\n",
      "+---------------+--------+-------+\n",
      "\n"
     ]
    }
   ],
   "source": [
    "from time import sleep\n",
    "for x in range(5):\n",
    "    spark.sql(\"SELECT * FROM green_taxi_data_counts_one\").show()\n",
    "    sleep(1) "
   ]
  },
  {
   "cell_type": "code",
   "execution_count": 32,
   "id": "8c405016-21cb-4f8c-9fe8-6619017e9570",
   "metadata": {},
   "outputs": [],
   "source": [
    "df_1 = spark.sql(\"SELECT * FROM green_taxi_data_counts_one \")"
   ]
  },
  {
   "cell_type": "code",
   "execution_count": 33,
   "id": "1befc4b3-016e-40a0-ab7a-6ed41fec515a",
   "metadata": {},
   "outputs": [
    {
     "name": "stdout",
     "output_type": "stream",
     "text": [
      "+---------------+--------+-------+\n",
      "|passenger_count|VendorID|  count|\n",
      "+---------------+--------+-------+\n",
      "|              4|       2|  28489|\n",
      "|              6|       1|    205|\n",
      "|              5|       1|    400|\n",
      "|              3|       1|  21472|\n",
      "|              5|       2| 194447|\n",
      "|              1|       2|4931694|\n",
      "|              0|       2|   1798|\n",
      "|           NULL|    NULL| 942223|\n",
      "|              3|       2|  71276|\n",
      "|              2|       1|  97208|\n",
      "|              1|       1| 961032|\n",
      "|              6|       2| 108720|\n",
      "|              7|       2|    130|\n",
      "|              4|       1|   5850|\n",
      "|              7|       1|      1|\n",
      "|              8|       2|    181|\n",
      "|              9|       2|     46|\n",
      "|              0|       1|  13089|\n",
      "|              2|       2| 399864|\n",
      "+---------------+--------+-------+\n",
      "\n"
     ]
    }
   ],
   "source": [
    "df_1.show()"
   ]
  },
  {
   "cell_type": "code",
   "execution_count": 35,
   "id": "d915e4c3-7078-4757-a27c-17c9507af2a5",
   "metadata": {},
   "outputs": [],
   "source": [
    "df_1.write.format(\"jdbc\") \\\n",
    " .options(url=\"jdbc:postgresql://172.19.0.2:5432/ny_taxi\",\n",
    "          dbtable=\"taxi_rides_all.green_taxi_data\",\n",
    "          user=\"ahona\",\n",
    "          password=\"ahona\",\n",
    "          driver=\"org.postgresql.Driver\") \\\n",
    " .mode('overwrite') \\\n",
    " .save()"
   ]
  },
  {
   "cell_type": "code",
   "execution_count": null,
   "id": "577f3f5c-ea8a-4d8e-b7df-efa88c4d98b3",
   "metadata": {},
   "outputs": [],
   "source": []
  },
  {
   "cell_type": "code",
   "execution_count": null,
   "id": "47833dd0-e21b-4f98-b58f-51ee07f0701d",
   "metadata": {},
   "outputs": [],
   "source": []
  },
  {
   "cell_type": "code",
   "execution_count": null,
   "id": "d6e11f9d-14db-471c-b8d6-b4b6ba018af9",
   "metadata": {},
   "outputs": [],
   "source": []
  },
  {
   "cell_type": "code",
   "execution_count": null,
   "id": "e66cbd4f-14d9-4d69-82dc-0fc9891d29e3",
   "metadata": {},
   "outputs": [],
   "source": []
  }
 ],
 "metadata": {
  "kernelspec": {
   "display_name": "Python 3 (ipykernel)",
   "language": "python",
   "name": "python3"
  },
  "language_info": {
   "codemirror_mode": {
    "name": "ipython",
    "version": 3
   },
   "file_extension": ".py",
   "mimetype": "text/x-python",
   "name": "python",
   "nbconvert_exporter": "python",
   "pygments_lexer": "ipython3",
   "version": "3.10.13"
  }
 },
 "nbformat": 4,
 "nbformat_minor": 5
}
